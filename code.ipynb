{
 "cells": [
  {
   "cell_type": "code",
   "execution_count": null,
   "metadata": {},
   "outputs": [],
   "source": [
    "import pandas as pd\n",
    "data=pd.read_csv('fake_or_real_news.csv')\n",
    "trans_data=data.T.iloc[3]\n",
    "new_data=data.loc[:,'title':'label']\n",
    "list1=list(trans_data)\n",
    "list2=[]\n",
    "list3=[]\n",
    "for i,j in enumerate(list1):\n",
    "    if(j=='REAL' or j=='FAKE'):\n",
    "        list2.append(i)\n",
    "for i in list2:\n",
    "        list3.append(new_data.iloc[i])\n",
    "df=pd.DataFrame(list3)\n",
    "df.replace(to_replace=['REAL','FAKE'],value=[1,0],inplace=True)\n",
    "df.to_csv(r'data.csv')"
   ]
  },
  {
   "cell_type": "code",
   "execution_count": null,
   "metadata": {},
   "outputs": [],
   "source": [
    "import pandas as pd\n",
    "data=pd.read_csv('data.csv')\n",
    "\n",
    "import re\n",
    "import nltk\n",
    "nltk.download('stopwords')\n",
    "from nltk.corpus import stopwords\n",
    "from nltk.stem.porter import PorterStemmer\n",
    "ps=PorterStemmer()\n",
    "\n",
    "for i in range(0,len(data)):\n",
    "    news=re.sub('[^a-zA-Z]',' ',data['text'][i])\n",
    "    news=news.lower()\n",
    "    news=news.split()\n",
    "    news=[ps.stem(word) for word in news if not word in set(stopwords.words('english'))]\n",
    "    news=' '.join(news)\n",
    "    corpus.append(news)\n",
    "\n",
    "corpus\n",
    "\n",
    "df=pd.DataFrame(corpus)\n",
    "df.to_csv('stem.csv')\n",
    "\n",
    "from sklearn.feature_extraction.text import CountVectorizer\n",
    "cv=CountVectorizer(max_features=42300)\n",
    "x=cv.fit_transform(corpus).toarray()\n",
    "\n",
    "x.shape\n",
    "\n",
    "x\n",
    "\n",
    "y=df.iloc[:,-1].values\n",
    "\n",
    "from sklearn.cross_validation import train_test_split\n",
    "x_train,x_test,y_train,y_test = train_test_split(x, y, test_size=0.20, random_state=0)"
   ]
  },
  {
   "cell_type": "code",
   "execution_count": null,
   "metadata": {},
   "outputs": [],
   "source": [
    "##naive Bayes\n",
    "from sklearn.naive_bayes import GaussianNB\n",
    "classifier =  GaussianNB()\n",
    "classifier.fit(x_train, y_train)\n",
    "\n",
    "y_pred = classifier.predict(x_test)\n",
    "\n",
    "from sklearn.metrics import confusion_matrix\n",
    "cmn=confusion_matrix(y_test,y_pred)"
   ]
  },
  {
   "cell_type": "code",
   "execution_count": null,
   "metadata": {},
   "outputs": [],
   "source": [
    "#random forest\n",
    "from sklearn.ensemble import RandomForestClassifier\n",
    "rmodel=RandomForestClassifier()\n",
    "rmodel.fit(x_train,y_train)\n",
    "\n",
    "y_pred=rmodel.predict(x_test)\n",
    "\n",
    "from sklearn.metrics import confusion_matrix\n",
    "cmr=confusion_matrix(y_test,y_pred)"
   ]
  },
  {
   "cell_type": "code",
   "execution_count": null,
   "metadata": {},
   "outputs": [],
   "source": [
   ]
  }
 ],
 "metadata": {
  "kernelspec": {
   "display_name": "Python 3",
   "language": "python",
   "name": "python3"
  },
  "language_info": {
   "codemirror_mode": {
    "name": "ipython",
    "version": 3
   },
   "file_extension": ".py",
   "mimetype": "text/x-python",
   "name": "python",
   "nbconvert_exporter": "python",
   "pygments_lexer": "ipython3",
   "version": "3.7.1"
  }
 },
 "nbformat": 4,
 "nbformat_minor": 2
}
